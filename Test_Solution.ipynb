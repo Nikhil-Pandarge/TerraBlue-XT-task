{
 "cells": [
  {
   "cell_type": "markdown",
   "metadata": {},
   "source": [
    "# - Using “Test_Data.csv”:\n",
    "- ------------------------------------------------------------------------------------------------ "
   ]
  },
  {
   "cell_type": "code",
   "execution_count": 1,
   "metadata": {},
   "outputs": [],
   "source": [
    "import pandas as pd"
   ]
  },
  {
   "cell_type": "code",
   "execution_count": 2,
   "metadata": {},
   "outputs": [],
   "source": [
    "import numpy as np"
   ]
  },
  {
   "cell_type": "code",
   "execution_count": 3,
   "metadata": {},
   "outputs": [],
   "source": [
    "import matplotlib.pyplot as plt"
   ]
  },
  {
   "cell_type": "code",
   "execution_count": 4,
   "metadata": {},
   "outputs": [],
   "source": [
    "from sklearn.manifold import TSNE"
   ]
  },
  {
   "cell_type": "code",
   "execution_count": 5,
   "metadata": {},
   "outputs": [],
   "source": [
    "import seaborn as sns "
   ]
  },
  {
   "cell_type": "code",
   "execution_count": 6,
   "metadata": {},
   "outputs": [],
   "source": [
    "Test_Data = pd.read_csv(\"Test_Data.csv\")"
   ]
  },
  {
   "cell_type": "markdown",
   "metadata": {},
   "source": [
    "- ------------------------------------------------------------------------------------------------\n",
    "## - 1.\tExtract columns ‘A’,‘B’,’C’,’G’,’R’,’X6’ and ’X8’ for different classes using dictionary and save as a csv for each class. "
   ]
  },
  {
   "cell_type": "code",
   "execution_count": 7,
   "metadata": {
    "scrolled": false
   },
   "outputs": [
    {
     "data": {
      "text/html": [
       "<div>\n",
       "<style scoped>\n",
       "    .dataframe tbody tr th:only-of-type {\n",
       "        vertical-align: middle;\n",
       "    }\n",
       "\n",
       "    .dataframe tbody tr th {\n",
       "        vertical-align: top;\n",
       "    }\n",
       "\n",
       "    .dataframe thead th {\n",
       "        text-align: right;\n",
       "    }\n",
       "</style>\n",
       "<table border=\"1\" class=\"dataframe\">\n",
       "  <thead>\n",
       "    <tr style=\"text-align: right;\">\n",
       "      <th></th>\n",
       "      <th>Unnamed: 0</th>\n",
       "      <th>A</th>\n",
       "      <th>B</th>\n",
       "      <th>C</th>\n",
       "      <th>D</th>\n",
       "      <th>E</th>\n",
       "      <th>F</th>\n",
       "      <th>G</th>\n",
       "      <th>H</th>\n",
       "      <th>I</th>\n",
       "      <th>...</th>\n",
       "      <th>Y6</th>\n",
       "      <th>Y7</th>\n",
       "      <th>Y8</th>\n",
       "      <th>Y9</th>\n",
       "      <th>Z1</th>\n",
       "      <th>Z2</th>\n",
       "      <th>Z4</th>\n",
       "      <th>Z5</th>\n",
       "      <th>Z6</th>\n",
       "      <th>Class</th>\n",
       "    </tr>\n",
       "  </thead>\n",
       "  <tbody>\n",
       "    <tr>\n",
       "      <th>0</th>\n",
       "      <td>0</td>\n",
       "      <td>6</td>\n",
       "      <td>860.62</td>\n",
       "      <td>809.73</td>\n",
       "      <td>919.69</td>\n",
       "      <td>30.87</td>\n",
       "      <td>69.81</td>\n",
       "      <td>65.24</td>\n",
       "      <td>74.10</td>\n",
       "      <td>2.51</td>\n",
       "      <td>...</td>\n",
       "      <td>0.002757</td>\n",
       "      <td>-0.003582</td>\n",
       "      <td>0.000125</td>\n",
       "      <td>0.001961</td>\n",
       "      <td>-3.290000e-08</td>\n",
       "      <td>0.000346</td>\n",
       "      <td>0.000956</td>\n",
       "      <td>9.150000e-07</td>\n",
       "      <td>1.190000e-07</td>\n",
       "      <td>A</td>\n",
       "    </tr>\n",
       "    <tr>\n",
       "      <th>1</th>\n",
       "      <td>1</td>\n",
       "      <td>7</td>\n",
       "      <td>871.58</td>\n",
       "      <td>789.74</td>\n",
       "      <td>929.69</td>\n",
       "      <td>32.82</td>\n",
       "      <td>68.94</td>\n",
       "      <td>64.54</td>\n",
       "      <td>75.97</td>\n",
       "      <td>2.65</td>\n",
       "      <td>...</td>\n",
       "      <td>0.002757</td>\n",
       "      <td>-0.002944</td>\n",
       "      <td>0.000131</td>\n",
       "      <td>0.001932</td>\n",
       "      <td>-3.290000e-08</td>\n",
       "      <td>0.000358</td>\n",
       "      <td>0.000888</td>\n",
       "      <td>7.880000e-07</td>\n",
       "      <td>1.280000e-07</td>\n",
       "      <td>A</td>\n",
       "    </tr>\n",
       "    <tr>\n",
       "      <th>2</th>\n",
       "      <td>2</td>\n",
       "      <td>6</td>\n",
       "      <td>854.87</td>\n",
       "      <td>789.74</td>\n",
       "      <td>929.69</td>\n",
       "      <td>32.38</td>\n",
       "      <td>70.29</td>\n",
       "      <td>64.54</td>\n",
       "      <td>75.97</td>\n",
       "      <td>2.66</td>\n",
       "      <td>...</td>\n",
       "      <td>0.003168</td>\n",
       "      <td>-0.002944</td>\n",
       "      <td>0.000125</td>\n",
       "      <td>0.001628</td>\n",
       "      <td>-3.290000e-08</td>\n",
       "      <td>0.000339</td>\n",
       "      <td>0.000875</td>\n",
       "      <td>7.660000e-07</td>\n",
       "      <td>1.150000e-07</td>\n",
       "      <td>A</td>\n",
       "    </tr>\n",
       "    <tr>\n",
       "      <th>3</th>\n",
       "      <td>3</td>\n",
       "      <td>7</td>\n",
       "      <td>823.73</td>\n",
       "      <td>759.75</td>\n",
       "      <td>879.71</td>\n",
       "      <td>29.19</td>\n",
       "      <td>72.93</td>\n",
       "      <td>68.20</td>\n",
       "      <td>78.97</td>\n",
       "      <td>2.58</td>\n",
       "      <td>...</td>\n",
       "      <td>0.003168</td>\n",
       "      <td>-0.002490</td>\n",
       "      <td>0.000116</td>\n",
       "      <td>0.001572</td>\n",
       "      <td>-3.290000e-08</td>\n",
       "      <td>0.000308</td>\n",
       "      <td>0.000856</td>\n",
       "      <td>7.330000e-07</td>\n",
       "      <td>9.480000e-08</td>\n",
       "      <td>A</td>\n",
       "    </tr>\n",
       "    <tr>\n",
       "      <th>4</th>\n",
       "      <td>4</td>\n",
       "      <td>6</td>\n",
       "      <td>823.44</td>\n",
       "      <td>759.75</td>\n",
       "      <td>879.71</td>\n",
       "      <td>28.98</td>\n",
       "      <td>72.96</td>\n",
       "      <td>68.20</td>\n",
       "      <td>78.97</td>\n",
       "      <td>2.56</td>\n",
       "      <td>...</td>\n",
       "      <td>0.003091</td>\n",
       "      <td>-0.002601</td>\n",
       "      <td>0.000126</td>\n",
       "      <td>0.001596</td>\n",
       "      <td>-3.290000e-08</td>\n",
       "      <td>0.000318</td>\n",
       "      <td>0.000913</td>\n",
       "      <td>8.330000e-07</td>\n",
       "      <td>1.010000e-07</td>\n",
       "      <td>A</td>\n",
       "    </tr>\n",
       "  </tbody>\n",
       "</table>\n",
       "<p>5 rows × 43 columns</p>\n",
       "</div>"
      ],
      "text/plain": [
       "   Unnamed: 0  A       B       C       D      E      F      G      H     I  \\\n",
       "0           0  6  860.62  809.73  919.69  30.87  69.81  65.24  74.10  2.51   \n",
       "1           1  7  871.58  789.74  929.69  32.82  68.94  64.54  75.97  2.65   \n",
       "2           2  6  854.87  789.74  929.69  32.38  70.29  64.54  75.97  2.66   \n",
       "3           3  7  823.73  759.75  879.71  29.19  72.93  68.20  78.97  2.58   \n",
       "4           4  6  823.44  759.75  879.71  28.98  72.96  68.20  78.97  2.56   \n",
       "\n",
       "   ...        Y6        Y7        Y8        Y9            Z1        Z2  \\\n",
       "0  ...  0.002757 -0.003582  0.000125  0.001961 -3.290000e-08  0.000346   \n",
       "1  ...  0.002757 -0.002944  0.000131  0.001932 -3.290000e-08  0.000358   \n",
       "2  ...  0.003168 -0.002944  0.000125  0.001628 -3.290000e-08  0.000339   \n",
       "3  ...  0.003168 -0.002490  0.000116  0.001572 -3.290000e-08  0.000308   \n",
       "4  ...  0.003091 -0.002601  0.000126  0.001596 -3.290000e-08  0.000318   \n",
       "\n",
       "         Z4            Z5            Z6  Class  \n",
       "0  0.000956  9.150000e-07  1.190000e-07      A  \n",
       "1  0.000888  7.880000e-07  1.280000e-07      A  \n",
       "2  0.000875  7.660000e-07  1.150000e-07      A  \n",
       "3  0.000856  7.330000e-07  9.480000e-08      A  \n",
       "4  0.000913  8.330000e-07  1.010000e-07      A  \n",
       "\n",
       "[5 rows x 43 columns]"
      ]
     },
     "execution_count": 7,
     "metadata": {},
     "output_type": "execute_result"
    }
   ],
   "source": [
    "Test_Data.head()"
   ]
  },
  {
   "cell_type": "markdown",
   "metadata": {},
   "source": [
    "### - Extrcting Column A:"
   ]
  },
  {
   "cell_type": "code",
   "execution_count": 8,
   "metadata": {
    "scrolled": true
   },
   "outputs": [
    {
     "data": {
      "text/html": [
       "<div>\n",
       "<style scoped>\n",
       "    .dataframe tbody tr th:only-of-type {\n",
       "        vertical-align: middle;\n",
       "    }\n",
       "\n",
       "    .dataframe tbody tr th {\n",
       "        vertical-align: top;\n",
       "    }\n",
       "\n",
       "    .dataframe thead th {\n",
       "        text-align: right;\n",
       "    }\n",
       "</style>\n",
       "<table border=\"1\" class=\"dataframe\">\n",
       "  <thead>\n",
       "    <tr style=\"text-align: right;\">\n",
       "      <th></th>\n",
       "      <th>0</th>\n",
       "    </tr>\n",
       "  </thead>\n",
       "  <tbody>\n",
       "    <tr>\n",
       "      <th>0</th>\n",
       "      <td>6</td>\n",
       "    </tr>\n",
       "    <tr>\n",
       "      <th>1</th>\n",
       "      <td>7</td>\n",
       "    </tr>\n",
       "    <tr>\n",
       "      <th>2</th>\n",
       "      <td>6</td>\n",
       "    </tr>\n",
       "    <tr>\n",
       "      <th>3</th>\n",
       "      <td>7</td>\n",
       "    </tr>\n",
       "    <tr>\n",
       "      <th>4</th>\n",
       "      <td>6</td>\n",
       "    </tr>\n",
       "  </tbody>\n",
       "</table>\n",
       "</div>"
      ],
      "text/plain": [
       "   0\n",
       "0  6\n",
       "1  7\n",
       "2  6\n",
       "3  7\n",
       "4  6"
      ]
     },
     "execution_count": 8,
     "metadata": {},
     "output_type": "execute_result"
    }
   ],
   "source": [
    "A = Test_Data['A'] # Extracting column A\n",
    "A = dict(A) # As given in problem statement converting A data into dictionary\n",
    "\n",
    "A_df = pd.DataFrame(A,index=[0]) \n",
    "\n",
    "A = A_df.transpose()\n",
    "\n",
    "A_df.to_csv('A.csv')\n",
    "\n",
    "A\n",
    "\n",
    "A.head()"
   ]
  },
  {
   "cell_type": "markdown",
   "metadata": {},
   "source": [
    "### - Extrcting Column B:"
   ]
  },
  {
   "cell_type": "code",
   "execution_count": 9,
   "metadata": {},
   "outputs": [
    {
     "data": {
      "text/html": [
       "<div>\n",
       "<style scoped>\n",
       "    .dataframe tbody tr th:only-of-type {\n",
       "        vertical-align: middle;\n",
       "    }\n",
       "\n",
       "    .dataframe tbody tr th {\n",
       "        vertical-align: top;\n",
       "    }\n",
       "\n",
       "    .dataframe thead th {\n",
       "        text-align: right;\n",
       "    }\n",
       "</style>\n",
       "<table border=\"1\" class=\"dataframe\">\n",
       "  <thead>\n",
       "    <tr style=\"text-align: right;\">\n",
       "      <th></th>\n",
       "      <th>0</th>\n",
       "    </tr>\n",
       "  </thead>\n",
       "  <tbody>\n",
       "    <tr>\n",
       "      <th>0</th>\n",
       "      <td>860.62</td>\n",
       "    </tr>\n",
       "    <tr>\n",
       "      <th>1</th>\n",
       "      <td>871.58</td>\n",
       "    </tr>\n",
       "    <tr>\n",
       "      <th>2</th>\n",
       "      <td>854.87</td>\n",
       "    </tr>\n",
       "    <tr>\n",
       "      <th>3</th>\n",
       "      <td>823.73</td>\n",
       "    </tr>\n",
       "    <tr>\n",
       "      <th>4</th>\n",
       "      <td>823.44</td>\n",
       "    </tr>\n",
       "  </tbody>\n",
       "</table>\n",
       "</div>"
      ],
      "text/plain": [
       "        0\n",
       "0  860.62\n",
       "1  871.58\n",
       "2  854.87\n",
       "3  823.73\n",
       "4  823.44"
      ]
     },
     "execution_count": 9,
     "metadata": {},
     "output_type": "execute_result"
    }
   ],
   "source": [
    "B = Test_Data['B'] # Extracting column A\n",
    "B = dict(B) # As given in problem statement converting A data into dictionary\n",
    "\n",
    "B_df = pd.DataFrame(B,index=[0]) \n",
    "\n",
    "B = B_df.transpose()\n",
    "\n",
    "B_df.to_csv('B.csv')\n",
    "\n",
    "B\n",
    "\n",
    "B.head()"
   ]
  },
  {
   "cell_type": "markdown",
   "metadata": {},
   "source": [
    "### - Extrcting Column C:"
   ]
  },
  {
   "cell_type": "code",
   "execution_count": 10,
   "metadata": {},
   "outputs": [
    {
     "data": {
      "text/html": [
       "<div>\n",
       "<style scoped>\n",
       "    .dataframe tbody tr th:only-of-type {\n",
       "        vertical-align: middle;\n",
       "    }\n",
       "\n",
       "    .dataframe tbody tr th {\n",
       "        vertical-align: top;\n",
       "    }\n",
       "\n",
       "    .dataframe thead th {\n",
       "        text-align: right;\n",
       "    }\n",
       "</style>\n",
       "<table border=\"1\" class=\"dataframe\">\n",
       "  <thead>\n",
       "    <tr style=\"text-align: right;\">\n",
       "      <th></th>\n",
       "      <th>0</th>\n",
       "    </tr>\n",
       "  </thead>\n",
       "  <tbody>\n",
       "    <tr>\n",
       "      <th>0</th>\n",
       "      <td>809.73</td>\n",
       "    </tr>\n",
       "    <tr>\n",
       "      <th>1</th>\n",
       "      <td>789.74</td>\n",
       "    </tr>\n",
       "    <tr>\n",
       "      <th>2</th>\n",
       "      <td>789.74</td>\n",
       "    </tr>\n",
       "    <tr>\n",
       "      <th>3</th>\n",
       "      <td>759.75</td>\n",
       "    </tr>\n",
       "    <tr>\n",
       "      <th>4</th>\n",
       "      <td>759.75</td>\n",
       "    </tr>\n",
       "  </tbody>\n",
       "</table>\n",
       "</div>"
      ],
      "text/plain": [
       "        0\n",
       "0  809.73\n",
       "1  789.74\n",
       "2  789.74\n",
       "3  759.75\n",
       "4  759.75"
      ]
     },
     "execution_count": 10,
     "metadata": {},
     "output_type": "execute_result"
    }
   ],
   "source": [
    "C = Test_Data['C'] # Extracting column A\n",
    "C = dict(C) # As given in problem statement converting A data into dictionary\n",
    "\n",
    "C_df = pd.DataFrame(C,index=[0]) \n",
    "\n",
    "C = C_df.transpose()\n",
    "\n",
    "C_df.to_csv('C.csv')\n",
    "\n",
    "C\n",
    "\n",
    "C.head()"
   ]
  },
  {
   "cell_type": "markdown",
   "metadata": {},
   "source": [
    "### - Extrcting Column G:"
   ]
  },
  {
   "cell_type": "code",
   "execution_count": 11,
   "metadata": {},
   "outputs": [
    {
     "data": {
      "text/html": [
       "<div>\n",
       "<style scoped>\n",
       "    .dataframe tbody tr th:only-of-type {\n",
       "        vertical-align: middle;\n",
       "    }\n",
       "\n",
       "    .dataframe tbody tr th {\n",
       "        vertical-align: top;\n",
       "    }\n",
       "\n",
       "    .dataframe thead th {\n",
       "        text-align: right;\n",
       "    }\n",
       "</style>\n",
       "<table border=\"1\" class=\"dataframe\">\n",
       "  <thead>\n",
       "    <tr style=\"text-align: right;\">\n",
       "      <th></th>\n",
       "      <th>0</th>\n",
       "    </tr>\n",
       "  </thead>\n",
       "  <tbody>\n",
       "    <tr>\n",
       "      <th>0</th>\n",
       "      <td>65.24</td>\n",
       "    </tr>\n",
       "    <tr>\n",
       "      <th>1</th>\n",
       "      <td>64.54</td>\n",
       "    </tr>\n",
       "    <tr>\n",
       "      <th>2</th>\n",
       "      <td>64.54</td>\n",
       "    </tr>\n",
       "    <tr>\n",
       "      <th>3</th>\n",
       "      <td>68.20</td>\n",
       "    </tr>\n",
       "    <tr>\n",
       "      <th>4</th>\n",
       "      <td>68.20</td>\n",
       "    </tr>\n",
       "  </tbody>\n",
       "</table>\n",
       "</div>"
      ],
      "text/plain": [
       "       0\n",
       "0  65.24\n",
       "1  64.54\n",
       "2  64.54\n",
       "3  68.20\n",
       "4  68.20"
      ]
     },
     "execution_count": 11,
     "metadata": {},
     "output_type": "execute_result"
    }
   ],
   "source": [
    "G = Test_Data['G'] # Extracting column A\n",
    "G = dict(G) # As given in problem statement converting A data into dictionary\n",
    "\n",
    "G_df = pd.DataFrame(G,index=[0]) \n",
    "\n",
    "G = G_df.transpose()\n",
    "\n",
    "G_df.to_csv('G.csv')\n",
    "\n",
    "G\n",
    "\n",
    "G.head()"
   ]
  },
  {
   "cell_type": "markdown",
   "metadata": {},
   "source": [
    "### - Extrcting Column R:"
   ]
  },
  {
   "cell_type": "code",
   "execution_count": 12,
   "metadata": {},
   "outputs": [
    {
     "data": {
      "text/html": [
       "<div>\n",
       "<style scoped>\n",
       "    .dataframe tbody tr th:only-of-type {\n",
       "        vertical-align: middle;\n",
       "    }\n",
       "\n",
       "    .dataframe tbody tr th {\n",
       "        vertical-align: top;\n",
       "    }\n",
       "\n",
       "    .dataframe thead th {\n",
       "        text-align: right;\n",
       "    }\n",
       "</style>\n",
       "<table border=\"1\" class=\"dataframe\">\n",
       "  <thead>\n",
       "    <tr style=\"text-align: right;\">\n",
       "      <th></th>\n",
       "      <th>0</th>\n",
       "    </tr>\n",
       "  </thead>\n",
       "  <tbody>\n",
       "    <tr>\n",
       "      <th>0</th>\n",
       "      <td>573</td>\n",
       "    </tr>\n",
       "    <tr>\n",
       "      <th>1</th>\n",
       "      <td>849</td>\n",
       "    </tr>\n",
       "    <tr>\n",
       "      <th>2</th>\n",
       "      <td>687</td>\n",
       "    </tr>\n",
       "    <tr>\n",
       "      <th>3</th>\n",
       "      <td>475</td>\n",
       "    </tr>\n",
       "    <tr>\n",
       "      <th>4</th>\n",
       "      <td>424</td>\n",
       "    </tr>\n",
       "  </tbody>\n",
       "</table>\n",
       "</div>"
      ],
      "text/plain": [
       "     0\n",
       "0  573\n",
       "1  849\n",
       "2  687\n",
       "3  475\n",
       "4  424"
      ]
     },
     "execution_count": 12,
     "metadata": {},
     "output_type": "execute_result"
    }
   ],
   "source": [
    "R = Test_Data['R'] # Extracting column A\n",
    "R = dict(R) # As given in problem statement converting A data into dictionary\n",
    "\n",
    "R_df = pd.DataFrame(R,index=[0]) \n",
    "\n",
    "R = R_df.transpose()\n",
    "\n",
    "R_df.to_csv('R.csv')\n",
    "\n",
    "R\n",
    "\n",
    "R.head()"
   ]
  },
  {
   "cell_type": "markdown",
   "metadata": {},
   "source": [
    "### - Extrcting Column X6:"
   ]
  },
  {
   "cell_type": "code",
   "execution_count": 13,
   "metadata": {},
   "outputs": [
    {
     "data": {
      "text/html": [
       "<div>\n",
       "<style scoped>\n",
       "    .dataframe tbody tr th:only-of-type {\n",
       "        vertical-align: middle;\n",
       "    }\n",
       "\n",
       "    .dataframe tbody tr th {\n",
       "        vertical-align: top;\n",
       "    }\n",
       "\n",
       "    .dataframe thead th {\n",
       "        text-align: right;\n",
       "    }\n",
       "</style>\n",
       "<table border=\"1\" class=\"dataframe\">\n",
       "  <thead>\n",
       "    <tr style=\"text-align: right;\">\n",
       "      <th></th>\n",
       "      <th>0</th>\n",
       "    </tr>\n",
       "  </thead>\n",
       "  <tbody>\n",
       "    <tr>\n",
       "      <th>0</th>\n",
       "      <td>88.1326</td>\n",
       "    </tr>\n",
       "    <tr>\n",
       "      <th>1</th>\n",
       "      <td>84.8057</td>\n",
       "    </tr>\n",
       "    <tr>\n",
       "      <th>2</th>\n",
       "      <td>90.5386</td>\n",
       "    </tr>\n",
       "    <tr>\n",
       "      <th>3</th>\n",
       "      <td>86.1053</td>\n",
       "    </tr>\n",
       "    <tr>\n",
       "      <th>4</th>\n",
       "      <td>87.0283</td>\n",
       "    </tr>\n",
       "  </tbody>\n",
       "</table>\n",
       "</div>"
      ],
      "text/plain": [
       "         0\n",
       "0  88.1326\n",
       "1  84.8057\n",
       "2  90.5386\n",
       "3  86.1053\n",
       "4  87.0283"
      ]
     },
     "execution_count": 13,
     "metadata": {},
     "output_type": "execute_result"
    }
   ],
   "source": [
    "X6 = Test_Data['X6'] # Extracting column A\n",
    "X6 = dict(X6) # As given in problem statement converting A data into dictionary\n",
    "\n",
    "X6_df = pd.DataFrame(X6,index=[0]) \n",
    "\n",
    "X6 = X6_df.transpose()\n",
    "\n",
    "X6_df.to_csv('X6.csv')\n",
    "\n",
    "X6\n",
    "\n",
    "X6.head()"
   ]
  },
  {
   "cell_type": "markdown",
   "metadata": {},
   "source": [
    "### - Extrcting Column X8:"
   ]
  },
  {
   "cell_type": "code",
   "execution_count": 14,
   "metadata": {},
   "outputs": [
    {
     "data": {
      "text/html": [
       "<div>\n",
       "<style scoped>\n",
       "    .dataframe tbody tr th:only-of-type {\n",
       "        vertical-align: middle;\n",
       "    }\n",
       "\n",
       "    .dataframe tbody tr th {\n",
       "        vertical-align: top;\n",
       "    }\n",
       "\n",
       "    .dataframe thead th {\n",
       "        text-align: right;\n",
       "    }\n",
       "</style>\n",
       "<table border=\"1\" class=\"dataframe\">\n",
       "  <thead>\n",
       "    <tr style=\"text-align: right;\">\n",
       "      <th></th>\n",
       "      <th>0</th>\n",
       "    </tr>\n",
       "  </thead>\n",
       "  <tbody>\n",
       "    <tr>\n",
       "      <th>0</th>\n",
       "      <td>0.2113</td>\n",
       "    </tr>\n",
       "    <tr>\n",
       "      <th>1</th>\n",
       "      <td>0.2151</td>\n",
       "    </tr>\n",
       "    <tr>\n",
       "      <th>2</th>\n",
       "      <td>0.2127</td>\n",
       "    </tr>\n",
       "    <tr>\n",
       "      <th>3</th>\n",
       "      <td>0.2081</td>\n",
       "    </tr>\n",
       "    <tr>\n",
       "      <th>4</th>\n",
       "      <td>0.2429</td>\n",
       "    </tr>\n",
       "  </tbody>\n",
       "</table>\n",
       "</div>"
      ],
      "text/plain": [
       "        0\n",
       "0  0.2113\n",
       "1  0.2151\n",
       "2  0.2127\n",
       "3  0.2081\n",
       "4  0.2429"
      ]
     },
     "execution_count": 14,
     "metadata": {},
     "output_type": "execute_result"
    }
   ],
   "source": [
    "X8 = Test_Data['X8'] # Extracting column A\n",
    "X8 = dict(X8) # As given in problem statement converting A data into dictionary\n",
    "\n",
    "X8_df = pd.DataFrame(X8,index=[0]) \n",
    "\n",
    "X8 = X8_df.transpose()\n",
    "\n",
    "X8_df.to_csv('X8.csv')\n",
    "\n",
    "X8\n",
    "\n",
    "X8.head()"
   ]
  },
  {
   "cell_type": "markdown",
   "metadata": {},
   "source": [
    "## - 2.\tDo a complete EDA on each class file. "
   ]
  },
  {
   "cell_type": "code",
   "execution_count": 14,
   "metadata": {},
   "outputs": [
    {
     "name": "stdout",
     "output_type": "stream",
     "text": [
      "<class 'pandas.core.frame.DataFrame'>\n",
      "Int64Index: 5839 entries, 0 to 5838\n",
      "Data columns (total 1 columns):\n",
      "0    5839 non-null int64\n",
      "dtypes: int64(1)\n",
      "memory usage: 91.2 KB\n"
     ]
    }
   ],
   "source": [
    "A.info()"
   ]
  },
  {
   "cell_type": "code",
   "execution_count": 67,
   "metadata": {},
   "outputs": [
    {
     "name": "stdout",
     "output_type": "stream",
     "text": [
      "<class 'pandas.core.frame.DataFrame'>\n",
      "Int64Index: 5839 entries, 0 to 5838\n",
      "Data columns (total 1 columns):\n",
      "0    5839 non-null float64\n",
      "dtypes: float64(1)\n",
      "memory usage: 91.2 KB\n"
     ]
    }
   ],
   "source": [
    "B.info()"
   ]
  },
  {
   "cell_type": "code",
   "execution_count": 68,
   "metadata": {},
   "outputs": [
    {
     "name": "stdout",
     "output_type": "stream",
     "text": [
      "<class 'pandas.core.frame.DataFrame'>\n",
      "Int64Index: 5839 entries, 0 to 5838\n",
      "Data columns (total 1 columns):\n",
      "0    5839 non-null float64\n",
      "dtypes: float64(1)\n",
      "memory usage: 91.2 KB\n"
     ]
    }
   ],
   "source": [
    "C.info()"
   ]
  },
  {
   "cell_type": "code",
   "execution_count": 69,
   "metadata": {},
   "outputs": [
    {
     "name": "stdout",
     "output_type": "stream",
     "text": [
      "<class 'pandas.core.frame.DataFrame'>\n",
      "Int64Index: 5839 entries, 0 to 5838\n",
      "Data columns (total 1 columns):\n",
      "0    5839 non-null float64\n",
      "dtypes: float64(1)\n",
      "memory usage: 91.2 KB\n"
     ]
    }
   ],
   "source": [
    "G.info()"
   ]
  },
  {
   "cell_type": "code",
   "execution_count": 70,
   "metadata": {},
   "outputs": [
    {
     "name": "stdout",
     "output_type": "stream",
     "text": [
      "<class 'pandas.core.frame.DataFrame'>\n",
      "Int64Index: 5839 entries, 0 to 5838\n",
      "Data columns (total 1 columns):\n",
      "0    5839 non-null int64\n",
      "dtypes: int64(1)\n",
      "memory usage: 91.2 KB\n"
     ]
    }
   ],
   "source": [
    "R.info()"
   ]
  },
  {
   "cell_type": "code",
   "execution_count": 71,
   "metadata": {},
   "outputs": [
    {
     "name": "stdout",
     "output_type": "stream",
     "text": [
      "<class 'pandas.core.frame.DataFrame'>\n",
      "Int64Index: 5839 entries, 0 to 5838\n",
      "Data columns (total 1 columns):\n",
      "0    5839 non-null float64\n",
      "dtypes: float64(1)\n",
      "memory usage: 91.2 KB\n"
     ]
    }
   ],
   "source": [
    "X6.info()"
   ]
  },
  {
   "cell_type": "code",
   "execution_count": 72,
   "metadata": {},
   "outputs": [
    {
     "name": "stdout",
     "output_type": "stream",
     "text": [
      "<class 'pandas.core.frame.DataFrame'>\n",
      "Int64Index: 5839 entries, 0 to 5838\n",
      "Data columns (total 1 columns):\n",
      "0    5839 non-null float64\n",
      "dtypes: float64(1)\n",
      "memory usage: 91.2 KB\n"
     ]
    }
   ],
   "source": [
    "X8.info()"
   ]
  },
  {
   "cell_type": "code",
   "execution_count": 16,
   "metadata": {},
   "outputs": [
    {
     "data": {
      "text/plain": [
       "(5839, 1)"
      ]
     },
     "execution_count": 16,
     "metadata": {},
     "output_type": "execute_result"
    }
   ],
   "source": [
    "A.shape"
   ]
  },
  {
   "cell_type": "code",
   "execution_count": 61,
   "metadata": {},
   "outputs": [
    {
     "data": {
      "text/plain": [
       "(5839, 1)"
      ]
     },
     "execution_count": 61,
     "metadata": {},
     "output_type": "execute_result"
    }
   ],
   "source": [
    "B.shape"
   ]
  },
  {
   "cell_type": "code",
   "execution_count": 62,
   "metadata": {},
   "outputs": [
    {
     "data": {
      "text/plain": [
       "(5839, 1)"
      ]
     },
     "execution_count": 62,
     "metadata": {},
     "output_type": "execute_result"
    }
   ],
   "source": [
    "C.shape"
   ]
  },
  {
   "cell_type": "code",
   "execution_count": 63,
   "metadata": {},
   "outputs": [
    {
     "data": {
      "text/plain": [
       "(5839, 1)"
      ]
     },
     "execution_count": 63,
     "metadata": {},
     "output_type": "execute_result"
    }
   ],
   "source": [
    "G.shape"
   ]
  },
  {
   "cell_type": "code",
   "execution_count": 64,
   "metadata": {},
   "outputs": [
    {
     "data": {
      "text/plain": [
       "(5839, 1)"
      ]
     },
     "execution_count": 64,
     "metadata": {},
     "output_type": "execute_result"
    }
   ],
   "source": [
    "R.shape"
   ]
  },
  {
   "cell_type": "code",
   "execution_count": 65,
   "metadata": {},
   "outputs": [
    {
     "data": {
      "text/plain": [
       "(5839, 1)"
      ]
     },
     "execution_count": 65,
     "metadata": {},
     "output_type": "execute_result"
    }
   ],
   "source": [
    "X6.shape"
   ]
  },
  {
   "cell_type": "code",
   "execution_count": 66,
   "metadata": {},
   "outputs": [
    {
     "data": {
      "text/plain": [
       "(5839, 1)"
      ]
     },
     "execution_count": 66,
     "metadata": {},
     "output_type": "execute_result"
    }
   ],
   "source": [
    "X8.shape"
   ]
  },
  {
   "cell_type": "code",
   "execution_count": 17,
   "metadata": {},
   "outputs": [
    {
     "data": {
      "text/html": [
       "<div>\n",
       "<style scoped>\n",
       "    .dataframe tbody tr th:only-of-type {\n",
       "        vertical-align: middle;\n",
       "    }\n",
       "\n",
       "    .dataframe tbody tr th {\n",
       "        vertical-align: top;\n",
       "    }\n",
       "\n",
       "    .dataframe thead th {\n",
       "        text-align: right;\n",
       "    }\n",
       "</style>\n",
       "<table border=\"1\" class=\"dataframe\">\n",
       "  <thead>\n",
       "    <tr style=\"text-align: right;\">\n",
       "      <th></th>\n",
       "      <th>0</th>\n",
       "    </tr>\n",
       "  </thead>\n",
       "  <tbody>\n",
       "    <tr>\n",
       "      <th>count</th>\n",
       "      <td>5839.000000</td>\n",
       "    </tr>\n",
       "    <tr>\n",
       "      <th>mean</th>\n",
       "      <td>9.343895</td>\n",
       "    </tr>\n",
       "    <tr>\n",
       "      <th>std</th>\n",
       "      <td>4.444193</td>\n",
       "    </tr>\n",
       "    <tr>\n",
       "      <th>min</th>\n",
       "      <td>4.000000</td>\n",
       "    </tr>\n",
       "    <tr>\n",
       "      <th>25%</th>\n",
       "      <td>7.000000</td>\n",
       "    </tr>\n",
       "    <tr>\n",
       "      <th>50%</th>\n",
       "      <td>8.000000</td>\n",
       "    </tr>\n",
       "    <tr>\n",
       "      <th>75%</th>\n",
       "      <td>9.000000</td>\n",
       "    </tr>\n",
       "    <tr>\n",
       "      <th>max</th>\n",
       "      <td>29.000000</td>\n",
       "    </tr>\n",
       "  </tbody>\n",
       "</table>\n",
       "</div>"
      ],
      "text/plain": [
       "                 0\n",
       "count  5839.000000\n",
       "mean      9.343895\n",
       "std       4.444193\n",
       "min       4.000000\n",
       "25%       7.000000\n",
       "50%       8.000000\n",
       "75%       9.000000\n",
       "max      29.000000"
      ]
     },
     "execution_count": 17,
     "metadata": {},
     "output_type": "execute_result"
    }
   ],
   "source": [
    "A.describe()"
   ]
  },
  {
   "cell_type": "code",
   "execution_count": 60,
   "metadata": {},
   "outputs": [
    {
     "data": {
      "text/html": [
       "<div>\n",
       "<style scoped>\n",
       "    .dataframe tbody tr th:only-of-type {\n",
       "        vertical-align: middle;\n",
       "    }\n",
       "\n",
       "    .dataframe tbody tr th {\n",
       "        vertical-align: top;\n",
       "    }\n",
       "\n",
       "    .dataframe thead th {\n",
       "        text-align: right;\n",
       "    }\n",
       "</style>\n",
       "<table border=\"1\" class=\"dataframe\">\n",
       "  <thead>\n",
       "    <tr style=\"text-align: right;\">\n",
       "      <th></th>\n",
       "      <th>0</th>\n",
       "    </tr>\n",
       "  </thead>\n",
       "  <tbody>\n",
       "    <tr>\n",
       "      <th>count</th>\n",
       "      <td>5839.000000</td>\n",
       "    </tr>\n",
       "    <tr>\n",
       "      <th>mean</th>\n",
       "      <td>881.419832</td>\n",
       "    </tr>\n",
       "    <tr>\n",
       "      <th>std</th>\n",
       "      <td>193.896790</td>\n",
       "    </tr>\n",
       "    <tr>\n",
       "      <th>min</th>\n",
       "      <td>372.080000</td>\n",
       "    </tr>\n",
       "    <tr>\n",
       "      <th>25%</th>\n",
       "      <td>728.480000</td>\n",
       "    </tr>\n",
       "    <tr>\n",
       "      <th>50%</th>\n",
       "      <td>879.710000</td>\n",
       "    </tr>\n",
       "    <tr>\n",
       "      <th>75%</th>\n",
       "      <td>1039.650000</td>\n",
       "    </tr>\n",
       "    <tr>\n",
       "      <th>max</th>\n",
       "      <td>1304.800000</td>\n",
       "    </tr>\n",
       "  </tbody>\n",
       "</table>\n",
       "</div>"
      ],
      "text/plain": [
       "                 0\n",
       "count  5839.000000\n",
       "mean    881.419832\n",
       "std     193.896790\n",
       "min     372.080000\n",
       "25%     728.480000\n",
       "50%     879.710000\n",
       "75%    1039.650000\n",
       "max    1304.800000"
      ]
     },
     "execution_count": 60,
     "metadata": {},
     "output_type": "execute_result"
    }
   ],
   "source": [
    "B.describe() "
   ]
  },
  {
   "cell_type": "code",
   "execution_count": 21,
   "metadata": {},
   "outputs": [
    {
     "data": {
      "text/plain": [
       "array([ 6,  7, 10, 11,  9,  8, 12,  5, 19, 13,  4, 14, 15, 17, 18, 16, 20,\n",
       "       25, 27, 26, 23, 24, 21, 22, 28, 29], dtype=int64)"
      ]
     },
     "execution_count": 21,
     "metadata": {},
     "output_type": "execute_result"
    }
   ],
   "source": [
    "A[0].unique()"
   ]
  },
  {
   "cell_type": "code",
   "execution_count": 58,
   "metadata": {},
   "outputs": [
    {
     "data": {
      "text/plain": [
       "array([860.62, 871.58, 854.87, ..., 716.51, 700.02, 769.19])"
      ]
     },
     "execution_count": 58,
     "metadata": {},
     "output_type": "execute_result"
    }
   ],
   "source": [
    "B[0].unique()"
   ]
  },
  {
   "cell_type": "code",
   "execution_count": 22,
   "metadata": {},
   "outputs": [
    {
     "data": {
      "text/plain": [
       "8     1455\n",
       "7     1303\n",
       "9      844\n",
       "6      667\n",
       "10     363\n",
       "11     184\n",
       "5      166\n",
       "12     129\n",
       "13      70\n",
       "24      61\n",
       "18      60\n",
       "19      51\n",
       "23      49\n",
       "26      48\n",
       "15      45\n",
       "25      43\n",
       "17      42\n",
       "16      41\n",
       "14      40\n",
       "20      40\n",
       "22      38\n",
       "21      37\n",
       "27      32\n",
       "4       19\n",
       "28      11\n",
       "29       1\n",
       "Name: 0, dtype: int64"
      ]
     },
     "execution_count": 22,
     "metadata": {},
     "output_type": "execute_result"
    }
   ],
   "source": [
    "A[0].value_counts()"
   ]
  },
  {
   "cell_type": "code",
   "execution_count": 59,
   "metadata": {},
   "outputs": [
    {
     "data": {
      "text/plain": [
       "1068.49    8\n",
       "810.59     8\n",
       "874.08     8\n",
       "1177.87    8\n",
       "1027.06    7\n",
       "883.14     7\n",
       "1171.28    7\n",
       "1140.04    7\n",
       "1106.03    7\n",
       "788.07     7\n",
       "1151.28    7\n",
       "879.71     7\n",
       "1073.49    6\n",
       "943.69     6\n",
       "972.09     6\n",
       "939.69     6\n",
       "850.63     6\n",
       "908.41     6\n",
       "1024.47    6\n",
       "927.36     6\n",
       "859.71     6\n",
       "878.77     6\n",
       "910.66     6\n",
       "949.35     6\n",
       "1120.83    6\n",
       "1153.78    6\n",
       "1127.96    6\n",
       "1152.95    6\n",
       "782.24     6\n",
       "881.27     6\n",
       "          ..\n",
       "1017.81    1\n",
       "698.58     1\n",
       "968.61     1\n",
       "506.85     1\n",
       "996.45     1\n",
       "861.28     1\n",
       "601.26     1\n",
       "1007.52    1\n",
       "881.83     1\n",
       "671.06     1\n",
       "989.33     1\n",
       "672.39     1\n",
       "701.47     1\n",
       "1081.56    1\n",
       "902.20     1\n",
       "1085.02    1\n",
       "704.16     1\n",
       "783.79     1\n",
       "622.13     1\n",
       "1091.24    1\n",
       "601.05     1\n",
       "911.31     1\n",
       "1014.85    1\n",
       "1117.96    1\n",
       "865.34     1\n",
       "604.17     1\n",
       "524.55     1\n",
       "530.19     1\n",
       "626.46     1\n",
       "819.73     1\n",
       "Name: 0, Length: 3160, dtype: int64"
      ]
     },
     "execution_count": 59,
     "metadata": {},
     "output_type": "execute_result"
    }
   ],
   "source": [
    "B[0].value_counts()"
   ]
  },
  {
   "cell_type": "code",
   "execution_count": 28,
   "metadata": {},
   "outputs": [
    {
     "data": {
      "image/png": "[encoded data removed]",
      "text/plain": [
       "<Figure size 432x288 with 1 Axes>"
      ]
     },
     "metadata": {
      "needs_background": "light"
     },
     "output_type": "display_data"
    }
   ],
   "source": [
    "plt.hist(A[0],bins=10)\n",
    "plt.xlabel('Values')\n",
    "plt.ylabel('Parameter')\n",
    "plt.title(\"Histogram for A\")\n",
    "plt.show()"
   ]
  },
  {
   "cell_type": "code",
   "execution_count": 49,
   "metadata": {},
   "outputs": [
    {
     "data": {
      "image/png": "[encoded data removed]",
      "text/plain": [
       "<Figure size 432x288 with 1 Axes>"
      ]
     },
     "metadata": {
      "needs_background": "light"
     },
     "output_type": "display_data"
    }
   ],
   "source": [
    "plt.plot(B[0],'o',markersize=2,alpha=0.2)\n",
    "plt.title(\"Plot for B\")\n",
    "plt.xlabel(\"Parameter\")\n",
    "plt.ylabel(\"Values\")\n",
    "plt.show()"
   ]
  },
  {
   "cell_type": "code",
   "execution_count": 50,
   "metadata": {},
   "outputs": [
    {
     "data": {
      "image/png": "[encoded data removed]",
      "text/plain": [
       "<Figure size 432x288 with 1 Axes>"
      ]
     },
     "metadata": {
      "needs_background": "light"
     },
     "output_type": "display_data"
    }
   ],
   "source": [
    "sns.violinplot(data=C,inner=None)\n",
    "plt.title('Violin plot for C')\n",
    "plt.xlabel('Parameter')\n",
    "plt.ylabel('values')\n",
    "plt.show()"
   ]
  },
  {
   "cell_type": "code",
   "execution_count": 52,
   "metadata": {},
   "outputs": [
    {
     "data": {
      "image/png": "[encoded data removed]",
      "text/plain": [
       "<Figure size 432x288 with 1 Axes>"
      ]
     },
     "metadata": {
      "needs_background": "light"
     },
     "output_type": "display_data"
    }
   ],
   "source": [
    "sns.boxenplot(data=B)\n",
    "plt.title('Boxen plot for B')\n",
    "plt.xlabel('Parameter')\n",
    "plt.ylabel('values')\n",
    "plt.show()"
   ]
  },
  {
   "cell_type": "code",
   "execution_count": 55,
   "metadata": {},
   "outputs": [
    {
     "data": {
      "image/png": "[encoded data removed]",
      "text/plain": [
       "<Figure size 432x288 with 1 Axes>"
      ]
     },
     "metadata": {
      "needs_background": "light"
     },
     "output_type": "display_data"
    }
   ],
   "source": [
    "sns.boxplot(data=G,whis=10)\n",
    "plt.title('Box plot for G')\n",
    "plt.xlabel('Parameter')\n",
    "plt.ylabel('values')\n",
    "plt.show()"
   ]
  },
  {
   "cell_type": "code",
   "execution_count": 74,
   "metadata": {},
   "outputs": [
    {
     "data": {
      "image/png": "[encoded data removed]",
      "text/plain": [
       "<Figure size 432x288 with 1 Axes>"
      ]
     },
     "metadata": {
      "needs_background": "light"
     },
     "output_type": "display_data"
    }
   ],
   "source": [
    "plt.plot(X6[0],'o',markersize=2)\n",
    "plt.title(\"Plot for X6\")\n",
    "plt.xlabel(\"Parameter\")\n",
    "plt.ylabel(\"Values\")\n",
    "plt.show()"
   ]
  },
  {
   "cell_type": "code",
   "execution_count": 73,
   "metadata": {},
   "outputs": [
    {
     "data": {
      "text/plain": [
       "1.0"
      ]
     },
     "execution_count": 73,
     "metadata": {},
     "output_type": "execute_result"
    }
   ],
   "source": [
    "np.corrcoef(X6[0])"
   ]
  },
  {
   "cell_type": "markdown",
   "metadata": {},
   "source": [
    "## - 3.\tBuild a classification model by using dimensionality reduction and feature selection techniques"
   ]
  },
  {
   "cell_type": "code",
   "execution_count": 77,
   "metadata": {},
   "outputs": [
    {
     "name": "stdout",
     "output_type": "stream",
     "text": [
      "1.0\n",
      "1.0\n",
      "1.0\n"
     ]
    }
   ],
   "source": [
    "print(np.corrcoef(A[0]))\n",
    "print(np.corrcoef(X6[0]))\n",
    "print(np.corrcoef(X8[0]))"
   ]
  },
  {
   "cell_type": "code",
   "execution_count": 83,
   "metadata": {},
   "outputs": [
    {
     "data": {
      "image/png": "[encoded data removed]",
      "text/plain": [
       "<Figure size 180x180 with 2 Axes>"
      ]
     },
     "metadata": {
      "needs_background": "light"
     },
     "output_type": "display_data"
    }
   ],
   "source": [
    "sns.pairplot(A,hue=None,diag_kind='hist')\n",
    "plt.show()"
   ]
  },
  {
   "cell_type": "code",
   "execution_count": 89,
   "metadata": {},
   "outputs": [
    {
     "name": "stdout",
     "output_type": "stream",
     "text": [
      "TSNE(angle=0.5, early_exaggeration=12.0, init='random', learning_rate=200.0,\n",
      "   method='barnes_hut', metric='euclidean', min_grad_norm=1e-07,\n",
      "   n_components=       0\n",
      "0      6\n",
      "1      7\n",
      "2      6\n",
      "3      7\n",
      "4      6\n",
      "5      6\n",
      "6     10\n",
      "7     11\n",
      "8      9\n",
      "9      7\n",
      "10     8\n",
      "11     9\n",
      "12     8\n",
      "13     8\n",
      "14    11\n",
      "15     9\n",
      "16     8\n",
      "17     9\n",
      "18     9\n",
      "19     9\n",
      "20    12\n",
      "21    11\n",
      "22     9\n",
      "23    10\n",
      "24    10\n",
      "25    10\n",
      "26    11\n",
      "27    10\n",
      "28     9\n",
      "29     9\n",
      "...   .....  9\n",
      "5831   8\n",
      "5832   8\n",
      "5833   9\n",
      "5834   8\n",
      "5835   7\n",
      "5836   9\n",
      "5837   9\n",
      "5838   8\n",
      "\n",
      "[5839 rows x 1 columns],\n",
      "   n_iter=1000, n_iter_without_progress=300, perplexity=30.0,\n",
      "   random_state=None, verbose=0)\n"
     ]
    }
   ],
   "source": [
    "A_TSNE = TSNE(A)\n",
    "print(A_TSNE)"
   ]
  },
  {
   "cell_type": "code",
   "execution_count": 90,
   "metadata": {},
   "outputs": [
    {
     "name": "stdout",
     "output_type": "stream",
     "text": [
      "TSNE(angle=0.5, early_exaggeration=12.0, init='random', learning_rate=200.0,\n",
      "   method='barnes_hut', metric='euclidean', min_grad_norm=1e-07,\n",
      "   n_components=           0\n",
      "0     860.62\n",
      "1     871.58\n",
      "2     854.87\n",
      "3     823.73\n",
      "4     823.44\n",
      "5     825.02\n",
      "6     763.63\n",
      "7     792.09\n",
      "8     752.25\n",
      "9     659.78\n",
      "10    635.12\n",
      "11    641.38\n",
      "12    653.65\n",
      "13    673.03\n",
      "14    679.54\n",
      "15    685.25\n",
      "16    689.77\n",
      "17    711.65\n",
      "18    771.09\n",
      "19    807.45\n",
      "20    801.73\n",
      "2...33  760.02\n",
      "5834  782.24\n",
      "5835  793.35\n",
      "5836  716.51\n",
      "5837  700.02\n",
      "5838  769.19\n",
      "\n",
      "[5839 rows x 1 columns],\n",
      "   n_iter=1000, n_iter_without_progress=300, perplexity=30.0,\n",
      "   random_state=None, verbose=0)\n"
     ]
    }
   ],
   "source": [
    "B_TSNE = TSNE(B)\n",
    "print(B_TSNE)"
   ]
  },
  {
   "cell_type": "code",
   "execution_count": 91,
   "metadata": {},
   "outputs": [
    {
     "name": "stdout",
     "output_type": "stream",
     "text": [
      "TSNE(angle=0.5, early_exaggeration=12.0, init='random', learning_rate=200.0,\n",
      "   method='barnes_hut', metric='euclidean', min_grad_norm=1e-07,\n",
      "   n_components=       0\n",
      "0      6\n",
      "1      7\n",
      "2      6\n",
      "3      7\n",
      "4      6\n",
      "5      6\n",
      "6     10\n",
      "7     11\n",
      "8      9\n",
      "9      7\n",
      "10     8\n",
      "11     9\n",
      "12     8\n",
      "13     8\n",
      "14    11\n",
      "15     9\n",
      "16     8\n",
      "17     9\n",
      "18     9\n",
      "19     9\n",
      "20    12\n",
      "21    11\n",
      "22     9\n",
      "23    10\n",
      "24    10\n",
      "25    10\n",
      "26    11\n",
      "27    10\n",
      "28     9\n",
      "29     9\n",
      "...   .....  9\n",
      "5831   8\n",
      "5832   8\n",
      "5833   9\n",
      "5834   8\n",
      "5835   7\n",
      "5836   9\n",
      "5837   9\n",
      "5838   8\n",
      "\n",
      "[5839 rows x 1 columns],\n",
      "   n_iter=1000, n_iter_without_progress=300, perplexity=30.0,\n",
      "   random_state=None, verbose=0)\n"
     ]
    }
   ],
   "source": [
    "C_TSNE = TSNE(C)\n",
    "print(A_TSNE)"
   ]
  },
  {
   "cell_type": "code",
   "execution_count": 92,
   "metadata": {},
   "outputs": [
    {
     "name": "stdout",
     "output_type": "stream",
     "text": [
      "TSNE(angle=0.5, early_exaggeration=12.0, init='random', learning_rate=200.0,\n",
      "   method='barnes_hut', metric='euclidean', min_grad_norm=1e-07,\n",
      "   n_components=            0\n",
      "0     88.1326\n",
      "1     84.8057\n",
      "2     90.5386\n",
      "3     86.1053\n",
      "4     87.0283\n",
      "5     76.9350\n",
      "6     33.4140\n",
      "7     69.5827\n",
      "8     74.0408\n",
      "9     74.6848\n",
      "10    63.4361\n",
      "11    57.8231\n",
      "12    72.6103\n",
      "13    72.8516\n",
      "14    84.8558\n",
      "15    74.5242\n",
      "16    51.8900\n",
      "17    71.6391\n",
      "18    79.1522\n",
      "19    9....9628\n",
      "5834  67.8899\n",
      "5835  56.5939\n",
      "5836  43.7679\n",
      "5837  34.8305\n",
      "5838  82.2972\n",
      "\n",
      "[5839 rows x 1 columns],\n",
      "   n_iter=1000, n_iter_without_progress=300, perplexity=30.0,\n",
      "   random_state=None, verbose=0)\n"
     ]
    }
   ],
   "source": [
    "X6_TSNE = TSNE(X6)\n",
    "print(X6_TSNE)"
   ]
  },
  {
   "cell_type": "code",
   "execution_count": 93,
   "metadata": {},
   "outputs": [
    {
     "name": "stdout",
     "output_type": "stream",
     "text": [
      "TSNE(angle=0.5, early_exaggeration=12.0, init='random', learning_rate=200.0,\n",
      "   method='barnes_hut', metric='euclidean', min_grad_norm=1e-07,\n",
      "   n_components=           0\n",
      "0     0.2113\n",
      "1     0.2151\n",
      "2     0.2127\n",
      "3     0.2081\n",
      "4     0.2429\n",
      "5     0.2139\n",
      "6     0.1819\n",
      "7     0.2971\n",
      "8     0.1846\n",
      "9     0.2467\n",
      "10    0.2099\n",
      "11    0.2126\n",
      "12    0.2434\n",
      "13    0.2073\n",
      "14    0.2102\n",
      "15    0.1737\n",
      "16    0.2602\n",
      "17    0.3038\n",
      "18    0.3155\n",
      "19    0.2477\n",
      "20    0.1782\n",
      "2...33  0.2489\n",
      "5834  0.2486\n",
      "5835  0.2451\n",
      "5836  0.2442\n",
      "5837  0.1786\n",
      "5838  0.2167\n",
      "\n",
      "[5839 rows x 1 columns],\n",
      "   n_iter=1000, n_iter_without_progress=300, perplexity=30.0,\n",
      "   random_state=None, verbose=0)\n"
     ]
    }
   ],
   "source": [
    "X8_TSNE = TSNE(X8)\n",
    "print(X8_TSNE)"
   ]
  },
  {
   "cell_type": "markdown",
   "metadata": {},
   "source": [
    "## - 4.\tCreate a ROC curve of the model."
   ]
  },
  {
   "cell_type": "code",
   "execution_count": 105,
   "metadata": {},
   "outputs": [],
   "source": [
    "def pdf(x, std, mean):\n",
    "    cons = 1.0 / np.sqrt(2*np.pi*(std**2))\n",
    "    pdf_normal_dist = cons*np.exp(-((x-mean)**2)/(2.0*(std**2)))\n",
    "    return pdf_normal_dist\n",
    "x = np.linspace(0, 1, num=100)\n",
    "good_pdf = pdf(x,0.1,0.4)\n",
    "bad_pdf = pdf(x,0.1,0.6)\n",
    "\n",
    "def plot_pdf(good_pdf, bad_pdf, ax):\n",
    "    ax.fill(x, good_pdf, \"g\", alpha=0.5)\n",
    "    ax.fill(x, bad_pdf,\"r\", alpha=0.5)\n",
    "    ax.set_xlim([0,1])\n",
    "    ax.set_ylim([0,5])\n",
    "    ax.set_title(\"Probability Distribution\", fontsize=14)\n",
    "    ax.set_ylabel('Values', fontsize=12)\n",
    "    ax.set_xlabel('P(X=\"bad\")', fontsize=12)\n",
    "    ax.legend([\"good\",\"bad\"])"
   ]
  },
  {
   "cell_type": "code",
   "execution_count": 109,
   "metadata": {
    "scrolled": true
   },
   "outputs": [
    {
     "data": {
      "image/png": "[encoded data removed]",
      "text/plain": [
       "<Figure size 720x360 with 1 Axes>"
      ]
     },
     "metadata": {
      "needs_background": "light"
     },
     "output_type": "display_data"
    }
   ],
   "source": [
    "fig, ax = plt.subplots(1,1, figsize=(10,5))\n",
    "plot_pdf(good_pdf, bad_pdf, ax)"
   ]
  },
  {
   "cell_type": "markdown",
   "metadata": {},
   "source": [
    "TRP = (True Positive/Total positive)\n",
    "\n",
    "FPR = (False Positive/Total Negative)"
   ]
  },
  {
   "cell_type": "code",
   "execution_count": 110,
   "metadata": {},
   "outputs": [],
   "source": [
    "def plot_roc(good_pdf, bad_pdf, ax):\n",
    "    #Total\n",
    "    total_bad = np.sum(bad_pdf)\n",
    "    total_good = np.sum(good_pdf)\n",
    "    #Cumulative sum\n",
    "    cum_TP = 0\n",
    "    cum_FP = 0\n",
    "    #TPR and FPR list initialization\n",
    "    TPR_list=[]\n",
    "    FPR_list=[]\n",
    "    #Iteratre through all values of x\n",
    "    for i in range(len(x)):\n",
    "        #We are only interested in non-zero values of bad\n",
    "        if bad_pdf[i]>0:\n",
    "            cum_TP+=bad_pdf[len(x)-1-i]\n",
    "            cum_FP+=good_pdf[len(x)-1-i]\n",
    "        FPR=cum_FP/total_good\n",
    "        TPR=cum_TP/total_bad\n",
    "        TPR_list.append(TPR)\n",
    "        FPR_list.append(FPR)\n",
    "    #Calculating AUC, taking the 100 timesteps into account\n",
    "    auc=np.sum(TPR_list)/100\n",
    "    #Plotting final ROC curve\n",
    "    ax.plot(FPR_list, TPR_list)\n",
    "    ax.plot(x,x, \"--\")\n",
    "    ax.set_xlim([0,1])\n",
    "    ax.set_ylim([0,1])\n",
    "    ax.set_title(\"ROC Curve\", fontsize=14)\n",
    "    ax.set_ylabel('TPR', fontsize=12)\n",
    "    ax.set_xlabel('FPR', fontsize=12)\n",
    "    ax.grid()\n",
    "    ax.legend([\"AUC=%.3f\"%auc])"
   ]
  },
  {
   "cell_type": "code",
   "execution_count": 111,
   "metadata": {},
   "outputs": [
    {
     "data": {
      "image/png": "[encoded data removed]",
      "text/plain": [
       "<Figure size 720x360 with 1 Axes>"
      ]
     },
     "metadata": {
      "needs_background": "light"
     },
     "output_type": "display_data"
    }
   ],
   "source": [
    "fig, ax = plt.subplots(1,1, figsize=(10,5))\n",
    "plot_roc(good_pdf, bad_pdf, ax)"
   ]
  }
 ],
 "metadata": {
  "kernelspec": {
   "display_name": "Python 3",
   "language": "python",
   "name": "python3"
  },
  "language_info": {
   "codemirror_mode": {
    "name": "ipython",
    "version": 3
   },
   "file_extension": ".py",
   "mimetype": "text/x-python",
   "name": "python",
   "nbconvert_exporter": "python",
   "pygments_lexer": "ipython3",
   "version": "3.7.3"
  }
 },
 "nbformat": 4,
 "nbformat_minor": 2
}
